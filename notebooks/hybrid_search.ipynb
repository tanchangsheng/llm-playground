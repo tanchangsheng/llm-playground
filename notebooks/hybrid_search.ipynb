{
 "cells": [
  {
   "cell_type": "markdown",
   "metadata": {},
   "source": [
    "# Hybrid Search RAG with LLamaIndex + RAGAS Eval\n",
    "\n",
    "This notebook provides a walk-through of:\n",
    "- Building hybrid search RAG with LlamaIndex and Opensearch.\n",
    "    - Loading and indexing data to a vector store.\n",
    "    - Setup hybrid retrieval QueryEngine.\n",
    "- Evaluating Hybrid Search retrieval performance with RAGAS.\n",
    "\n",
    "\n",
    "### Run Opensearch\n",
    "To perform hybrid search, we will need a datastore that can support both text and vector indices. I will be using Opensearch in this walk-through.\n",
    "\n",
    "Run the following docker command to start a local Opensearch instance. Update or omit the volume mount according to your needs.\n",
    "```sh\n",
    "docker run \\\n",
    "    -p 9200:9200 -p 9600:9600 \\\n",
    "    -e \"discovery.type=single-node\" -e \"plugins.security.disabled=true\" \\\n",
    "    -v ./persist/opensearch:/usr/share/opensearch/data \\\n",
    "    opensearchproject/opensearch:2.11.1 \n",
    "```\n",
    "\n"
   ]
  },
  {
   "cell_type": "code",
   "execution_count": 1,
   "metadata": {},
   "outputs": [
    {
     "name": "stdout",
     "output_type": "stream",
     "text": [
      "Note: you may need to restart the kernel to use updated packages.\n"
     ]
    }
   ],
   "source": [
    "# install packages\n",
    "%pip install --quiet beautifulsoup4==4.12.2 \\\n",
    "    httpx==0.25.2 \\\n",
    "    html2text==2020.1.16 \\\n",
    "    llama-index==0.9.15.post2 \\\n",
    "    python-dotenv==1.0.0 \\\n",
    "    pandas==2.1.4 \\\n",
    "    nest-asyncio==1.5.8 \\\n",
    "    ragas==0.0.22 \\\n",
    "    matplotlib==3.8.2"
   ]
  },
  {
   "cell_type": "code",
   "execution_count": 1,
   "metadata": {},
   "outputs": [],
   "source": [
    "from os import getenv\n",
    "from dotenv import load_dotenv\n",
    "\n",
    "%load_ext autoreload\n",
    "%autoreload 2\n",
    "\n",
    "# OPENAI_API_KEY is defined on a local .env file\n",
    "load_dotenv(override=True)\n",
    "\n",
    "# constants to be used throughout this notebook\n",
    "OPENSEARCH_ENDPOINT = getenv(\"OPENSEARCH_ENDPOINT\", \"http://localhost:9200\")\n",
    "OPENSEARCH_INDEX = getenv(\"OPENSEARCH_INDEX\", \"hdb-buying-a-flat\")\n",
    "OPENSEARCH_TEXT_FIELD = \"content\"\n",
    "OPENSEARCH_EMBEDDNG_FIELD = \"embedding\"\n",
    "EMBEDDING_DIMENSIONS = 1536 # text-embedding-ada-002\n",
    "CHUNK_SIZE = 512\n",
    "CHUNK_OVERLAP = 0\n",
    "RETRIEVE_TOP_K = 5\n",
    "DEFAULT_SEARCH_PIPELINE = \"hybrid-search-pipeline-0.5\""
   ]
  },
  {
   "cell_type": "markdown",
   "metadata": {},
   "source": [
    "## 1. Building the Hybrid Search Indices\n",
    "### 1.1. Initialize Opensearch vector store client"
   ]
  },
  {
   "cell_type": "code",
   "execution_count": 2,
   "metadata": {},
   "outputs": [],
   "source": [
    "from llama_index import StorageContext\n",
    "from llama_index.embeddings import OpenAIEmbedding\n",
    "from llama_index.embeddings.openai import OpenAIEmbeddingMode, OpenAIEmbeddingModelType\n",
    "from llama_index.ingestion import IngestionPipeline\n",
    "from llama_index.text_splitter import SentenceSplitter\n",
    "from llama_index.vector_stores import OpensearchVectorStore, OpensearchVectorClient\n",
    "\n",
    "# http endpoint for your cluster (opensearch required for vector index usage)\n",
    "endpoint = OPENSEARCH_ENDPOINT\n",
    "\n",
    "# index to demonstrate the VectorStore impl\n",
    "idx = OPENSEARCH_INDEX\n",
    "\n",
    "# OpensearchVectorClient stores text in this field by default\n",
    "text_field = OPENSEARCH_TEXT_FIELD\n",
    "\n",
    "# OpensearchVectorClient stores embeddings in this field by default\n",
    "embedding_field = OPENSEARCH_EMBEDDNG_FIELD\n",
    "\n",
    "# Dimensions for text-embedding-ada-002 embedding model\n",
    "dimensions = EMBEDDING_DIMENSIONS\n",
    "\n",
    "# Opensearch uses this to combine retrieval from text and embedding fields\n",
    "search_pipeline = DEFAULT_SEARCH_PIPELINE\n",
    "\n",
    "# OpensearchVectorClient encapsulates logic for a\n",
    "# single opensearch index with vector search enabled\n",
    "client = OpensearchVectorClient(\n",
    "    endpoint,\n",
    "    idx,\n",
    "    dimensions,\n",
    "    embedding_field=embedding_field,\n",
    "    text_field=text_field,\n",
    "    search_pipeline=DEFAULT_SEARCH_PIPELINE,\n",
    ")\n",
    "\n",
    "# initialize vector store\n",
    "vector_store = OpensearchVectorStore(client)\n",
    "storage_context = StorageContext.from_defaults(vector_store=vector_store)"
   ]
  },
  {
   "cell_type": "markdown",
   "metadata": {},
   "source": [
    "### 1.2. Initialize ingestion pipeline"
   ]
  },
  {
   "cell_type": "code",
   "execution_count": 3,
   "metadata": {},
   "outputs": [],
   "source": [
    "# create the pipeline with transformations\n",
    "# - chunk size can be modified based on your data\n",
    "# - use OpenAI embeddings\n",
    "pipeline = IngestionPipeline(\n",
    "    transformations=[\n",
    "        SentenceSplitter(chunk_size=CHUNK_SIZE, chunk_overlap=CHUNK_OVERLAP),\n",
    "        OpenAIEmbedding(\n",
    "            OpenAIEmbeddingMode.SIMILARITY_MODE,\n",
    "            OpenAIEmbeddingModelType.TEXT_EMBED_ADA_002,\n",
    "        ),\n",
    "    ],\n",
    ")"
   ]
  },
  {
   "cell_type": "markdown",
   "metadata": {},
   "source": [
    "### 1.3 Load data and build index"
   ]
  },
  {
   "cell_type": "code",
   "execution_count": 4,
   "metadata": {},
   "outputs": [
    {
     "name": "stdout",
     "output_type": "stream",
     "text": [
      "[OK] url: https://www.hdb.gov.sg/residential/buying-a-flat/understanding-your-eligibility-and-housing-loan-options\n",
      "[OK] url: https://www.hdb.gov.sg/residential/buying-a-flat/understanding-your-eligibility-and-housing-loan-options/housing-loan-options\n",
      "[OK] url: https://www.hdb.gov.sg/residential/buying-a-flat/understanding-your-eligibility-and-housing-loan-options/application-for-an-hdb-flat-eligibility-hfe-letter\n",
      "[OK] url: https://www.hdb.gov.sg/residential/buying-a-flat/understanding-your-eligibility-and-housing-loan-options/flat-and-grant-eligibility\n",
      "[OK] url: https://www.hdb.gov.sg/residential/buying-a-flat/understanding-your-eligibility-and-housing-loan-options/housing-loan-options/housing-loan-from-hdb\n",
      "[OK] url: https://www.hdb.gov.sg/residential/buying-a-flat/understanding-your-eligibility-and-housing-loan-options/housing-loan-options/housing-loan-from-financial-institutions\n",
      "[OK] url: https://www.hdb.gov.sg/residential/buying-a-flat/understanding-your-eligibility-and-housing-loan-options/application-for-an-hdb-flat-eligibility-hfe-letter/income-guidelines-and-documents\n",
      "[OK] url: https://www.hdb.gov.sg/residential/buying-a-flat/understanding-your-eligibility-and-housing-loan-options/flat-and-grant-eligibility/seniors\n",
      "[OK] url: https://www.hdb.gov.sg/residential/buying-a-flat/understanding-your-eligibility-and-housing-loan-options/flat-and-grant-eligibility/couples-and-families\n",
      "[OK] url: https://www.hdb.gov.sg/residential/buying-a-flat/understanding-your-eligibility-and-housing-loan-options/flat-and-grant-eligibility/singles\n",
      "[OK] url: https://www.hdb.gov.sg/residential/buying-a-flat/understanding-your-eligibility-and-housing-loan-options/flat-and-grant-eligibility/couples-and-families/enhanced-cpf-housing-grant-families\n",
      "[OK] url: https://www.hdb.gov.sg/residential/buying-a-flat/understanding-your-eligibility-and-housing-loan-options/flat-and-grant-eligibility/couples-and-families/proximity-housing-grant-families\n",
      "[OK] url: https://www.hdb.gov.sg/residential/buying-a-flat/understanding-your-eligibility-and-housing-loan-options/flat-and-grant-eligibility/couples-and-families/cpf-housing-grants-for-resale-flats-families\n",
      "[OK] url: https://www.hdb.gov.sg/residential/buying-a-flat/understanding-your-eligibility-and-housing-loan-options/flat-and-grant-eligibility/couples-and-families/step-up-cpf-housing-grant-families\n",
      "[OK] url: https://www.hdb.gov.sg/residential/buying-a-flat/understanding-your-eligibility-and-housing-loan-options/flat-and-grant-eligibility/singles/enhanced-cpf-housing-grant-singles\n",
      "[OK] url: https://www.hdb.gov.sg/residential/buying-a-flat/understanding-your-eligibility-and-housing-loan-options/flat-and-grant-eligibility/singles/cpf-housing-grant-for-resale-flats-singles\n",
      "[OK] url: https://www.hdb.gov.sg/residential/buying-a-flat/understanding-your-eligibility-and-housing-loan-options/flat-and-grant-eligibility/singles/proximity-housing-grant-singles\n",
      "visited 17 urls\n"
     ]
    }
   ],
   "source": [
    "# a custom script to crawl, extract text content from HDB website to ingest to datastore.\n",
    "from utils.crawl import Crawler\n",
    "\n",
    "crawler = Crawler(pipeline, vector_store)\n",
    "\n",
    "base_url = \"https://www.hdb.gov.sg\"\n",
    "seed_urls = [\n",
    "    \"https://www.hdb.gov.sg/residential/buying-a-flat/understanding-your-eligibility-and-housing-loan-options\"\n",
    "]\n",
    "\n",
    "crawler.crawl(base_url=base_url, seed_urls=seed_urls)"
   ]
  },
  {
   "cell_type": "markdown",
   "metadata": {},
   "source": [
    "A sample snippet of code for adding a text and embedding data to data store from `utils/crawl.py`\n",
    "\n",
    "```python\n",
    "\n",
    "# extract text content from web page\n",
    "text = ...\n",
    "\n",
    "# create document with <title, url> metadata\n",
    "metadata = {\n",
    "    \"title\": \"example\",\n",
    "    \"url\": \"https://example.com\",\n",
    "}\n",
    "document = Document(text=text, metadata=metadata)\n",
    "\n",
    "# run pipeline that chunks and create embedding from given Document\n",
    "nodes = self.pipeline.run(documents=[document])\n",
    "\n",
    "# add nodes to Opensearch index\n",
    "self.vector_store.add(nodes)\n",
    "```\n"
   ]
  },
  {
   "cell_type": "markdown",
   "metadata": {},
   "source": [
    "## 2. Querying from Hybrid Datastore "
   ]
  },
  {
   "cell_type": "markdown",
   "metadata": {},
   "source": [
    "### 2.1 Create a search pipeline in Opensearch\n",
    "Before we can perform hybrid search with Opensearch, we need to define a search pipeline.\n",
    "The search pipeline allows us to configure how the retrieved chunks from the text and vector store are weighted.\n",
    "\n",
    "More info about Opensearch search pipeline can be found here [here](https://opensearch.org/docs/latest/search-plugins/hybrid-search/#step-4-configure-a-search-pipeline)"
   ]
  },
  {
   "cell_type": "code",
   "execution_count": 2,
   "metadata": {},
   "outputs": [],
   "source": [
    "# Create search pipeline for hybrid query\n",
    "import requests\n",
    "\n",
    "def create_opensearch_search_pipeline(pipeline_name, alpha):\n",
    "    \"\"\"\n",
    "    Create an Opensearch search pipeline\n",
    "\n",
    "    Parameters:\n",
    "    pipeline_name (str): Name of the pipeline.\n",
    "    alpha: Weight of vector search. alpha of 0 is pure bm25 and an alpha of 1 is pure vector search.\n",
    "    \"\"\"\n",
    "\n",
    "    if alpha < 0 or alpha > 1:\n",
    "        print(f\"alpha must be >= 0 and <= 1\")\n",
    "        return\n",
    "    alpha *= 1.0\n",
    "    headers = {\n",
    "        \"Content-Type\": \"application/json\",\n",
    "    }\n",
    "\n",
    "    json_data = {\n",
    "        \"description\": \"Post processor for hybrid search\",\n",
    "        \"phase_results_processors\": [\n",
    "            {\n",
    "                \"normalization-processor\": {\n",
    "                    \"normalization\": {\n",
    "                        \"technique\": \"l2\",\n",
    "                    },\n",
    "                    \"combination\": {\n",
    "                        \"technique\": \"arithmetic_mean\",\n",
    "                        \"parameters\": {\n",
    "                            \"weights\": [\n",
    "                                1.0 - alpha,  # text field weight\n",
    "                                alpha,  # embedding field weight\n",
    "                            ],\n",
    "                        },\n",
    "                    },\n",
    "                },\n",
    "            },\n",
    "        ],\n",
    "    }\n",
    "\n",
    "    response = requests.put(\n",
    "        f\"http://localhost:9200/_search/pipeline/{pipeline_name}\",\n",
    "        headers=headers,\n",
    "        json=json_data,\n",
    "    )\n",
    "    if response.status_code == 200:\n",
    "        print(f\"created opensearch search pipeline [{pipeline_name}]\")\n",
    "    else:\n",
    "        print(f\"failed to create opensearch search pipeline [{pipeline_name}]\")"
   ]
  },
  {
   "cell_type": "code",
   "execution_count": 5,
   "metadata": {},
   "outputs": [
    {
     "name": "stdout",
     "output_type": "stream",
     "text": [
      "created opensearch search pipeline [hybrid-search-pipeline-0.5]\n"
     ]
    }
   ],
   "source": [
    "create_opensearch_search_pipeline(DEFAULT_SEARCH_PIPELINE, 0.5)"
   ]
  },
  {
   "cell_type": "code",
   "execution_count": null,
   "metadata": {},
   "outputs": [],
   "source": []
  },
  {
   "cell_type": "markdown",
   "metadata": {},
   "source": [
    "### 2.2 Create Query Engine \n",
    "Query engine is a generic interface that allows you to ask question over your data.\n",
    "\n",
    "A query engine takes in a natural language query, and returns a rich response.\n",
    "\n",
    "Learn more info about LlamaIndex's Query Engine [here](https://docs.llamaindex.ai/en/stable/module_guides/deploying/query_engine/root.html)"
   ]
  },
  {
   "cell_type": "code",
   "execution_count": 6,
   "metadata": {},
   "outputs": [],
   "source": [
    "from llama_index import VectorStoreIndex, get_response_synthesizer\n",
    "from llama_index.retrievers import VectorIndexRetriever\n",
    "from llama_index.query_engine import RetrieverQueryEngine\n",
    "from llama_index.response_synthesizers.type import ResponseMode\n",
    "from llama_index.vector_stores.types import VectorStoreQueryMode\n",
    "\n",
    "# create index to retrieve from\n",
    "index = VectorStoreIndex.from_vector_store(\n",
    "    vector_store, storage_context=storage_context\n",
    ")\n",
    "\n",
    "# configure retriever with hybrid mode\n",
    "retriever = VectorIndexRetriever(\n",
    "    index=index,\n",
    "    similarity_top_k=RETRIEVE_TOP_K,\n",
    "    vector_store_query_mode=VectorStoreQueryMode.HYBRID,\n",
    ")\n",
    "\n",
    "# configure response synthesizer\n",
    "# uses gpt-3.5 turbo by default\n",
    "# not using gpt-4 here to save money\n",
    "response_synthesizer = get_response_synthesizer(\n",
    "    response_mode=ResponseMode.COMPACT,\n",
    ")\n",
    "\n",
    "# assemble query engine\n",
    "query_engine = RetrieverQueryEngine(\n",
    "    retriever=retriever,\n",
    "    response_synthesizer=response_synthesizer,\n",
    ")"
   ]
  },
  {
   "cell_type": "markdown",
   "metadata": {},
   "source": [
    "### 2.3 Query away!"
   ]
  },
  {
   "cell_type": "code",
   "execution_count": 8,
   "metadata": {},
   "outputs": [
    {
     "name": "stdout",
     "output_type": "stream",
     "text": [
      "The income ceiling for the Enhanced CPF Housing Grant (EHG) depends on the type of applicant and the household composition. For first-timer households, the average gross monthly household income must not exceed $9,000. For first-timer and second-timer applicants, the half of the average gross monthly household income must not exceed $4,500.\n"
     ]
    }
   ],
   "source": [
    "response = query_engine.query(\"What is the income ceiling for EHG?\")\n",
    "print(response)"
   ]
  },
  {
   "cell_type": "code",
   "execution_count": 9,
   "metadata": {},
   "outputs": [
    {
     "name": "stdout",
     "output_type": "stream",
     "text": [
      "HDB | Enhanced CPF Housing Grant (Singles) https://www.hdb.gov.sg/residential/buying-a-flat/understanding-your-eligibility-and-housing-loan-options/flat-and-grant-eligibility/singles/enhanced-cpf-housing-grant-singles\n",
      "HDB | Enhanced CPF Housing Grant (Families) https://www.hdb.gov.sg/residential/buying-a-flat/understanding-your-eligibility-and-housing-loan-options/flat-and-grant-eligibility/couples-and-families/enhanced-cpf-housing-grant-families\n",
      "HDB | Enhanced CPF Housing Grant (Families) https://www.hdb.gov.sg/residential/buying-a-flat/understanding-your-eligibility-and-housing-loan-options/flat-and-grant-eligibility/couples-and-families/enhanced-cpf-housing-grant-families\n",
      "HDB | Enhanced CPF Housing Grant (Singles) https://www.hdb.gov.sg/residential/buying-a-flat/understanding-your-eligibility-and-housing-loan-options/flat-and-grant-eligibility/singles/enhanced-cpf-housing-grant-singles\n",
      "HDB | Enhanced CPF Housing Grant (Singles) https://www.hdb.gov.sg/residential/buying-a-flat/understanding-your-eligibility-and-housing-loan-options/flat-and-grant-eligibility/singles/enhanced-cpf-housing-grant-singles\n"
     ]
    }
   ],
   "source": [
    "for n in response.source_nodes:\n",
    "    print(n.metadata[\"title\"], n.metadata[\"url\"])"
   ]
  },
  {
   "cell_type": "code",
   "execution_count": null,
   "metadata": {},
   "outputs": [],
   "source": []
  },
  {
   "cell_type": "markdown",
   "metadata": {},
   "source": [
    "## 3. Evaluation\n",
    "### 3.1 Generating the evaluation dataset"
   ]
  },
  {
   "cell_type": "code",
   "execution_count": 10,
   "metadata": {},
   "outputs": [],
   "source": [
    "from llama_index.readers import ElasticsearchReader\n",
    "\n",
    "os_reader = ElasticsearchReader(OPENSEARCH_ENDPOINT, OPENSEARCH_INDEX)\n",
    "\n",
    "# extract 10 chunks from datastore to generate eval questions.\n",
    "# this query retrieves chunks related to resale/bto grants.\n",
    "os_query = {\n",
    "    \"query\": {\n",
    "        \"bool\": {\n",
    "            \"must\": [\n",
    "                {\"match\": {OPENSEARCH_TEXT_FIELD: \"grants\"}},\n",
    "            ],\n",
    "            \"should\": [\n",
    "                {\"match\": {OPENSEARCH_TEXT_FIELD: \"resale\"}},\n",
    "                {\"match\": {OPENSEARCH_TEXT_FIELD: \"bto\"}},\n",
    "            ],\n",
    "        }\n",
    "    },\n",
    "    \"size\": 10,\n",
    "}\n",
    "os_docs = os_reader.load_data(text_field, os_query)"
   ]
  },
  {
   "cell_type": "code",
   "execution_count": 11,
   "metadata": {},
   "outputs": [
    {
     "name": "stdout",
     "output_type": "stream",
     "text": [
      "HDB | Singles https://www.hdb.gov.sg/residential/buying-a-flat/understanding-your-eligibility-and-housing-loan-options/flat-and-grant-eligibility/singles\n",
      "HDB | Singles https://www.hdb.gov.sg/residential/buying-a-flat/understanding-your-eligibility-and-housing-loan-options/flat-and-grant-eligibility/singles\n",
      "HDB | Couples and Families https://www.hdb.gov.sg/residential/buying-a-flat/understanding-your-eligibility-and-housing-loan-options/flat-and-grant-eligibility/couples-and-families\n",
      "HDB | Couples and Families https://www.hdb.gov.sg/residential/buying-a-flat/understanding-your-eligibility-and-housing-loan-options/flat-and-grant-eligibility/couples-and-families\n",
      "HDB | Couples and Families https://www.hdb.gov.sg/residential/buying-a-flat/understanding-your-eligibility-and-housing-loan-options/flat-and-grant-eligibility/couples-and-families\n",
      "HDB | CPF Housing Grants for Resale Flats (Families) https://www.hdb.gov.sg/residential/buying-a-flat/understanding-your-eligibility-and-housing-loan-options/flat-and-grant-eligibility/couples-and-families/cpf-housing-grants-for-resale-flats-families\n",
      "HDB | Proximity Housing Grant (Families) https://www.hdb.gov.sg/residential/buying-a-flat/understanding-your-eligibility-and-housing-loan-options/flat-and-grant-eligibility/couples-and-families/proximity-housing-grant-families\n",
      "HDB | Couples and Families https://www.hdb.gov.sg/residential/buying-a-flat/understanding-your-eligibility-and-housing-loan-options/flat-and-grant-eligibility/couples-and-families\n",
      "HDB | Singles https://www.hdb.gov.sg/residential/buying-a-flat/understanding-your-eligibility-and-housing-loan-options/flat-and-grant-eligibility/singles\n",
      "HDB | Singles https://www.hdb.gov.sg/residential/buying-a-flat/understanding-your-eligibility-and-housing-loan-options/flat-and-grant-eligibility/singles\n"
     ]
    }
   ],
   "source": [
    "from llama_index.schema import Document\n",
    "\n",
    "# prepare Document to be suitable for use by RagDatasetGenerator\n",
    "eval_docs = []\n",
    "for doc in os_docs:\n",
    "    metadata = {\n",
    "        \"title\": doc.metadata[\"metadata\"][\"title\"],\n",
    "        \"url\": doc.metadata[\"metadata\"][\"url\"],\n",
    "    }\n",
    "\n",
    "    simple_doc = Document(\n",
    "        text=doc.get_content(),\n",
    "        metadata=metadata,\n",
    "        excluded_llm_metadata_keys=[\"title\", \"url\"],\n",
    "    )\n",
    "    eval_docs.append(simple_doc)\n",
    "\n",
    "    print(metadata[\"title\"], metadata[\"url\"])"
   ]
  },
  {
   "cell_type": "code",
   "execution_count": 14,
   "metadata": {},
   "outputs": [],
   "source": [
    "from llama_index import ServiceContext\n",
    "from llama_index.llama_dataset.generator import RagDatasetGenerator\n",
    "from llama_index.llms import OpenAI\n",
    "import nest_asyncio\n",
    "\n",
    "\n",
    "nest_asyncio.apply()\n",
    "\n",
    "# use gpt-4 for eval question-answer generation\n",
    "gpt4_service_context = ServiceContext.from_defaults(\n",
    "    llm=OpenAI(model=\"gpt-4\", temperature=0),\n",
    "    chunk_size=512,\n",
    "    chunk_overlap=0,\n",
    ")\n",
    "\n",
    "dataset_generator = RagDatasetGenerator.from_documents(\n",
    "    documents=eval_docs,\n",
    "    service_context=gpt4_service_context,\n",
    "    num_questions_per_chunk=2,\n",
    ")"
   ]
  },
  {
   "cell_type": "code",
   "execution_count": 15,
   "metadata": {},
   "outputs": [],
   "source": [
    "# generate eval dataset\n",
    "rag_eval_dataset = dataset_generator.generate_dataset_from_nodes()\n",
    "\n",
    "# save for later reuse\n",
    "rag_eval_dataset.save_json(\"../datasets/eval-chunk_512-chunk_overlap_0-gpt4-temp_0.json\")"
   ]
  },
  {
   "cell_type": "code",
   "execution_count": null,
   "metadata": {},
   "outputs": [],
   "source": []
  },
  {
   "cell_type": "markdown",
   "metadata": {},
   "source": [
    "### 3.2 Helper functions to perform evaluation for each `alpha` to experiment\n",
    "\n",
    "- Load evaluation questions and answers\n",
    "- Create search pipeline\n",
    "- Build query engine (retriever + response generator)\n",
    "- Evaluate with RAGAS\n",
    "- Calculate mean metrics results for each experiment"
   ]
  },
  {
   "cell_type": "code",
   "execution_count": 3,
   "metadata": {},
   "outputs": [],
   "source": [
    "from llama_index import StorageContext\n",
    "from llama_index import VectorStoreIndex, get_response_synthesizer\n",
    "from llama_index.retrievers import VectorIndexRetriever\n",
    "from llama_index.query_engine import RetrieverQueryEngine\n",
    "from llama_index.response_synthesizers.type import ResponseMode\n",
    "from llama_index.vector_stores import OpensearchVectorStore, OpensearchVectorClient\n",
    "from llama_index.vector_stores.types import VectorStoreQueryMode\n",
    "\n",
    "\n",
    "def build_query_engine(search_pipeline):\n",
    "    \"\"\"\n",
    "    Build a QueryEngine given the search_pipeline.\n",
    "    \n",
    "    Parameters:\n",
    "    search_pipeline (str): The size of data chunks being processed.\n",
    "    \n",
    "    Returns:\n",
    "    query_engine (RetrieverQueryEngine): The query engine that uses the given search pipeline to perform search on Opensearch.\n",
    "    \"\"\"\n",
    "\n",
    "    # initialize OpensearchVectorClient with search_pipeline.\n",
    "    client = OpensearchVectorClient(\n",
    "        OPENSEARCH_ENDPOINT,\n",
    "        OPENSEARCH_INDEX,\n",
    "        EMBEDDING_DIMENSIONS,\n",
    "        embedding_field=OPENSEARCH_EMBEDDNG_FIELD,\n",
    "        text_field=OPENSEARCH_TEXT_FIELD,\n",
    "        search_pipeline=search_pipeline,\n",
    "    )\n",
    "\n",
    "    # initialize vector_store and storage_context with client that has search_pipeline defined.\n",
    "    vector_store = OpensearchVectorStore(client)\n",
    "    storage_context = StorageContext.from_defaults(vector_store=vector_store)\n",
    "\n",
    "    # create index to retrieve from\n",
    "    index = VectorStoreIndex.from_vector_store(\n",
    "        vector_store, storage_context=storage_context\n",
    "    )\n",
    "\n",
    "    # configure retriever with hybrid mode\n",
    "    retriever = VectorIndexRetriever(\n",
    "        index=index,\n",
    "        similarity_top_k=RETRIEVE_TOP_K,\n",
    "        vector_store_query_mode=VectorStoreQueryMode.HYBRID,\n",
    "    )\n",
    "\n",
    "    # configure response synthesizer\n",
    "    response_synthesizer = get_response_synthesizer(\n",
    "        response_mode=ResponseMode.COMPACT,\n",
    "    )\n",
    "\n",
    "    # assemble query engine\n",
    "    query_engine = RetrieverQueryEngine(\n",
    "        retriever=retriever,\n",
    "        response_synthesizer=response_synthesizer,\n",
    "    )\n",
    "\n",
    "    return query_engine\n",
    "\n",
    "\n",
    "def get_mean_metrics(results_df, metrics):\n",
    "    \"\"\"\n",
    "    Calculate the mean of the given metrics present in the given dataframe\n",
    "\n",
    "    Parameters:\n",
    "    results_df (DataFrame): The size of data chunks being processed.\n",
    "    metrics: List of ragas metrics.\n",
    "\n",
    "    Returns:\n",
    "    metrics (dict): Dict of metrics and its mean values.\n",
    "    \"\"\"\n",
    "    mean_metrics = dict()\n",
    "    for metric in metrics:\n",
    "        if metric.name in results_df:\n",
    "            mean_metrics[metric.name] = results_df[metric.name].mean()\n",
    "    return mean_metrics"
   ]
  },
  {
   "cell_type": "code",
   "execution_count": 71,
   "metadata": {},
   "outputs": [],
   "source": [
    "from ragas.llama_index import evaluate\n",
    "\n",
    "def evaluate_hybrid_search(alpha, metrics, queries, reference_answers):\n",
    "    \"\"\"\n",
    "    Evaluate and return mean metrics of a hybrid search RAG for a given alpha value.\n",
    "\n",
    "    Parameters:\n",
    "    alpha (float): Weight of vector search.\n",
    "    metrics: List of ragas metrics.\n",
    "    queries: List of evaluation questions.\n",
    "    reference_answers: List of evaluation answers.\n",
    "\n",
    "    Returns:\n",
    "    mean_metrics (dict): Dict of metrics and its mean values with the current experiment's alpha value.\n",
    "    \"\"\"\n",
    "\n",
    "    # create search pipeline with experiment alpha\n",
    "    search_pipeline = f\"hybrid-search-pipeline-{alpha}\"\n",
    "    create_opensearch_search_pipeline(search_pipeline, alpha)\n",
    "\n",
    "    # build query engine\n",
    "    query_engine = build_query_engine(search_pipeline)\n",
    "\n",
    "    # ragas eval\n",
    "    result = evaluate(query_engine, metrics, queries, reference_answers)\n",
    "\n",
    "    # calculate mean of eval metrics\n",
    "    mean_metrics = get_mean_metrics(result, metrics)\n",
    "    mean_metrics[\"alpha\"] = alpha\n",
    "    \n",
    "    return mean_metrics, result\n"
   ]
  },
  {
   "cell_type": "markdown",
   "metadata": {},
   "source": [
    "### 3.2 Putting it all together\n",
    "Perform RAGAS eval (context_precision, context_recall) with alpha of [0, 0.3, 0.5, 0.7, 1]\n"
   ]
  },
  {
   "cell_type": "code",
   "execution_count": 81,
   "metadata": {},
   "outputs": [],
   "source": [
    "from llama_index.llama_dataset import LabelledRagDataset\n",
    "\n",
    "# load dataset from file\n",
    "eval_ds = LabelledRagDataset.from_json(\"../datasets/eval-chunk_512-chunk_overlap_0-gpt4-temp_0-size_10.json\")\n",
    "eval_df = eval_ds.to_pandas()\n",
    "\n",
    "# prepare list of question and reference answers\n",
    "queries = eval_df[\"query\"].tolist()\n",
    "reference_answers = eval_df[\"reference_answer\"].tolist()\n",
    "reference_answers = [[a] for a in reference_answers]"
   ]
  },
  {
   "cell_type": "code",
   "execution_count": 82,
   "metadata": {},
   "outputs": [],
   "source": [
    "from ragas.metrics import (\n",
    "    context_precision,\n",
    "    context_recall,\n",
    ")\n",
    "\n",
    "# metrics used for evaluating retrieval\n",
    "# uses gpt-3.5-turbo-16k by default\n",
    "metrics = [context_precision,context_recall]"
   ]
  },
  {
   "cell_type": "markdown",
   "metadata": {},
   "source": [
    "Can change the LLM used by RAGAS to any [LLMs](https://docs.llamaindex.ai/en/stable/module_guides/models/llms.html#modules) supported by llama_index as such\n",
    "```python\n",
    "from llama_index.llms import OpenAI\n",
    "from ragas.metrics import context_precision\n",
    "\n",
    "llm = OpenAI(model=\"gpt-4\", temperature=0.0)\n",
    "context_precision.llm = llm\n",
    "```"
   ]
  },
  {
   "cell_type": "code",
   "execution_count": 83,
   "metadata": {},
   "outputs": [
    {
     "name": "stdout",
     "output_type": "stream",
     "text": [
      "created opensearch search pipeline [hybrid-search-pipeline-0]\n",
      "evaluating with [context_precision]\n"
     ]
    },
    {
     "name": "stderr",
     "output_type": "stream",
     "text": [
      "100%|██████████| 1/1 [00:09<00:00,  9.49s/it]\n"
     ]
    },
    {
     "name": "stdout",
     "output_type": "stream",
     "text": [
      "evaluating with [context_recall]\n"
     ]
    },
    {
     "name": "stderr",
     "output_type": "stream",
     "text": [
      "100%|██████████| 1/1 [00:11<00:00, 11.00s/it]\n"
     ]
    },
    {
     "name": "stdout",
     "output_type": "stream",
     "text": [
      "created opensearch search pipeline [hybrid-search-pipeline-0.25]\n",
      "evaluating with [context_precision]\n"
     ]
    },
    {
     "name": "stderr",
     "output_type": "stream",
     "text": [
      "100%|██████████| 1/1 [00:07<00:00,  7.07s/it]\n"
     ]
    },
    {
     "name": "stdout",
     "output_type": "stream",
     "text": [
      "evaluating with [context_recall]\n"
     ]
    },
    {
     "name": "stderr",
     "output_type": "stream",
     "text": [
      "100%|██████████| 1/1 [00:10<00:00, 10.32s/it]\n"
     ]
    },
    {
     "name": "stdout",
     "output_type": "stream",
     "text": [
      "created opensearch search pipeline [hybrid-search-pipeline-0.5]\n",
      "evaluating with [context_precision]\n"
     ]
    },
    {
     "name": "stderr",
     "output_type": "stream",
     "text": [
      "100%|██████████| 1/1 [00:07<00:00,  7.71s/it]\n"
     ]
    },
    {
     "name": "stdout",
     "output_type": "stream",
     "text": [
      "evaluating with [context_recall]\n"
     ]
    },
    {
     "name": "stderr",
     "output_type": "stream",
     "text": [
      "100%|██████████| 1/1 [00:19<00:00, 19.86s/it]\n"
     ]
    },
    {
     "name": "stdout",
     "output_type": "stream",
     "text": [
      "created opensearch search pipeline [hybrid-search-pipeline-0.75]\n",
      "evaluating with [context_precision]\n"
     ]
    },
    {
     "name": "stderr",
     "output_type": "stream",
     "text": [
      "100%|██████████| 1/1 [00:04<00:00,  4.05s/it]\n"
     ]
    },
    {
     "name": "stdout",
     "output_type": "stream",
     "text": [
      "evaluating with [context_recall]\n"
     ]
    },
    {
     "name": "stderr",
     "output_type": "stream",
     "text": [
      "100%|██████████| 1/1 [00:11<00:00, 11.07s/it]\n"
     ]
    },
    {
     "name": "stdout",
     "output_type": "stream",
     "text": [
      "created opensearch search pipeline [hybrid-search-pipeline-1]\n",
      "evaluating with [context_precision]\n"
     ]
    },
    {
     "name": "stderr",
     "output_type": "stream",
     "text": [
      "100%|██████████| 1/1 [00:04<00:00,  4.40s/it]\n"
     ]
    },
    {
     "name": "stdout",
     "output_type": "stream",
     "text": [
      "evaluating with [context_recall]\n"
     ]
    },
    {
     "name": "stderr",
     "output_type": "stream",
     "text": [
      "100%|██████████| 1/1 [00:12<00:00, 12.97s/it]\n"
     ]
    }
   ],
   "source": [
    "import pandas as pd\n",
    "import nest_asyncio\n",
    "\n",
    "nest_asyncio.apply()\n",
    "\n",
    "alphas = [0, 0.25, 0.5, 0.75, 1]\n",
    "mean_metrics_list = []\n",
    "results = []\n",
    "for alpha in alphas:\n",
    "    mean_metrics, result = evaluate_hybrid_search(alpha, metrics, queries, reference_answers)\n",
    "    mean_metrics_list.append(mean_metrics)\n",
    "    results.append(result)\n",
    "    result_df = result.to_pandas()\n",
    "    result_df.to_json(f\"../evaluations/result-alpha_{alpha}.json\", force_ascii=False, indent=4)\n",
    "\n",
    "mean_metrics_df = pd.DataFrame(mean_metrics_list)"
   ]
  },
  {
   "cell_type": "code",
   "execution_count": 84,
   "metadata": {},
   "outputs": [
    {
     "data": {
      "text/html": [
       "<div>\n",
       "<style scoped>\n",
       "    .dataframe tbody tr th:only-of-type {\n",
       "        vertical-align: middle;\n",
       "    }\n",
       "\n",
       "    .dataframe tbody tr th {\n",
       "        vertical-align: top;\n",
       "    }\n",
       "\n",
       "    .dataframe thead th {\n",
       "        text-align: right;\n",
       "    }\n",
       "</style>\n",
       "<table border=\"1\" class=\"dataframe\">\n",
       "  <thead>\n",
       "    <tr style=\"text-align: right;\">\n",
       "      <th></th>\n",
       "      <th>context_precision</th>\n",
       "      <th>context_recall</th>\n",
       "      <th>alpha</th>\n",
       "    </tr>\n",
       "  </thead>\n",
       "  <tbody>\n",
       "    <tr>\n",
       "      <th>0</th>\n",
       "      <td>0.912361</td>\n",
       "      <td>0.95</td>\n",
       "      <td>0.00</td>\n",
       "    </tr>\n",
       "    <tr>\n",
       "      <th>1</th>\n",
       "      <td>0.991667</td>\n",
       "      <td>0.95</td>\n",
       "      <td>0.25</td>\n",
       "    </tr>\n",
       "    <tr>\n",
       "      <th>2</th>\n",
       "      <td>0.895972</td>\n",
       "      <td>0.95</td>\n",
       "      <td>0.50</td>\n",
       "    </tr>\n",
       "    <tr>\n",
       "      <th>3</th>\n",
       "      <td>0.918333</td>\n",
       "      <td>0.95</td>\n",
       "      <td>0.75</td>\n",
       "    </tr>\n",
       "    <tr>\n",
       "      <th>4</th>\n",
       "      <td>0.922778</td>\n",
       "      <td>0.95</td>\n",
       "      <td>1.00</td>\n",
       "    </tr>\n",
       "  </tbody>\n",
       "</table>\n",
       "</div>"
      ],
      "text/plain": [
       "   context_precision  context_recall  alpha\n",
       "0           0.912361            0.95   0.00\n",
       "1           0.991667            0.95   0.25\n",
       "2           0.895972            0.95   0.50\n",
       "3           0.918333            0.95   0.75\n",
       "4           0.922778            0.95   1.00"
      ]
     },
     "execution_count": 84,
     "metadata": {},
     "output_type": "execute_result"
    }
   ],
   "source": [
    "mean_metrics_df"
   ]
  },
  {
   "cell_type": "code",
   "execution_count": 85,
   "metadata": {},
   "outputs": [
    {
     "data": {
      "image/png": "[encoded data removed]",
      "text/plain": [
       "<Figure size 640x480 with 1 Axes>"
      ]
     },
     "metadata": {},
     "output_type": "display_data"
    }
   ],
   "source": [
    "import matplotlib.pyplot as plt\n",
    "\n",
    "# Create a stacked bar chart\n",
    "fig, ax = plt.subplots()\n",
    "\n",
    "# Plotting context_precision and context_recall as stacked bars\n",
    "mean_metrics_df.plot(kind='bar', x='alpha', y=['context_precision', 'context_recall'], ax=ax)\n",
    "\n",
    "# Adding labels and title\n",
    "ax.set_xlabel('Alpha')\n",
    "ax.set_ylabel('Values')\n",
    "ax.set_title('Context Precision and Recall for each Alpha(vector search weight)')\n",
    "\n",
    "ax.legend(loc='lower right', bbox_to_anchor=(1.4, 0))\n",
    "\n",
    "# Rotate x-axis labels to make them horizontal\n",
    "plt.xticks(rotation=0)\n",
    "\n",
    "# Display the stacked bar chart\n",
    "plt.show()"
   ]
  },
  {
   "cell_type": "code",
   "execution_count": null,
   "metadata": {},
   "outputs": [],
   "source": []
  },
  {
   "cell_type": "code",
   "execution_count": null,
   "metadata": {},
   "outputs": [],
   "source": []
  },
  {
   "cell_type": "code",
   "execution_count": null,
   "metadata": {},
   "outputs": [],
   "source": []
  },
  {
   "cell_type": "code",
   "execution_count": null,
   "metadata": {},
   "outputs": [],
   "source": []
  },
  {
   "cell_type": "code",
   "execution_count": null,
   "metadata": {},
   "outputs": [],
   "source": []
  },
  {
   "cell_type": "code",
   "execution_count": null,
   "metadata": {},
   "outputs": [],
   "source": []
  },
  {
   "cell_type": "code",
   "execution_count": null,
   "metadata": {},
   "outputs": [],
   "source": []
  },
  {
   "cell_type": "code",
   "execution_count": null,
   "metadata": {},
   "outputs": [],
   "source": []
  },
  {
   "cell_type": "code",
   "execution_count": null,
   "metadata": {},
   "outputs": [],
   "source": []
  }
 ],
 "metadata": {
  "kernelspec": {
   "display_name": "Python 3 (ipykernel)",
   "language": "python",
   "name": "python3"
  },
  "language_info": {
   "codemirror_mode": {
    "name": "ipython",
    "version": 3
   },
   "file_extension": ".py",
   "mimetype": "text/x-python",
   "name": "python",
   "nbconvert_exporter": "python",
   "pygments_lexer": "ipython3",
   "version": "3.11.6"
  }
 },
 "nbformat": 4,
 "nbformat_minor": 2
}
